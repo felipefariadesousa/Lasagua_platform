{
 "cells": [
  {
   "cell_type": "code",
   "execution_count": 1,
   "id": "8d22c293-ff92-4b9c-9d4c-b17425ea7eb4",
   "metadata": {},
   "outputs": [
    {
     "data": {
      "text/plain": [
       "'\\nUniversidade Federal do Rio de Janeiro (UFRJ)\\nCentro de Ciências Matemáticas e da Natureza (CCMN)\\nInstituto de Geociências (IGEO)\\nDepartamento de Meteorologia - Laboratório de Aplicações de Satélites Ambientais (LASA)\\n\\nDescrição: Rotina de download para imagens do sensor Ocean and Land Colour Instrument (OLCI) a bordo do satélite Sentinel-3.\\n\\nMetodologia: A procura da cena a partir de um ponto ou polígono é realizada através da biblioteca Eodag (Earth Observation Data Access Gateway).\\nPara cada cena encontrada, o nome da identificação da cena é salvo em uma lista. A partir desta lista, o download das cenas é realizado \\npor meio da API fornecida pela plataforma Copernicus, sob administração da ESA (European Space Agency).\\n\\nAutor: Luiz Felipe Machado Faria de Sousa\\n'"
      ]
     },
     "execution_count": 1,
     "metadata": {},
     "output_type": "execute_result"
    }
   ],
   "source": [
    "\"\"\"\n",
    "Universidade Federal do Rio de Janeiro (UFRJ)\n",
    "Centro de Ciências Matemáticas e da Natureza (CCMN)\n",
    "Instituto de Geociências (IGEO)\n",
    "Departamento de Meteorologia - Laboratório de Aplicações de Satélites Ambientais (LASA)\n",
    "\n",
    "Descrição: Rotina de download para imagens do sensor Ocean and Land Colour Instrument (OLCI) a bordo do satélite Sentinel-3.\n",
    "\n",
    "Metodologia: A procura da cena a partir de um ponto ou polígono é realizada através da biblioteca Eodag (Earth Observation Data Access Gateway).\n",
    "Para cada cena encontrada, o nome da identificação da cena é salvo em uma lista. A partir desta lista, o download das cenas é realizado \n",
    "por meio da API fornecida pela plataforma Copernicus, sob administração da ESA (European Space Agency).\n",
    "\n",
    "Autor: Luiz Felipe Machado Faria de Sousa\n",
    "Versão: 1.0.0\n",
    "\"\"\"\n",
    "\n",
    "# Importa funcionalidades do sistema para manipulação de caminhos e pacotes\n",
    "import sys  # Usado para adicionar diretórios ao sys.path e permitir importações de outros diretórios\n",
    "sys.path.append('./codebase_download')  # Adiciona o diretório onde está localizado o módulo copernicus_downloader.py\n",
    "\n",
    "# Importa a classe CopernicusDownloader do arquivo copernicus_downloader.py\n",
    "from copernicus_downloader import CopernicusDownloader  # Classe principal usada para buscar e baixar produtos da API do Copernicus\n",
    "\n",
    "# Data inicial da busca\n",
    "start_date = '2021-04-01'\n",
    "\n",
    "# Data final da busca\n",
    "end_date = '2021-05-01'\n",
    "\n",
    "# Coordenadas geográficas da região a ser pesquisada. As coorndenadas devem ser uma lista com duas coordenadas (lat, lon) ou,\n",
    "# Quatro coordenadas (lonmín, latmín, lonmax, latmax) valores float de coordenadas geográficas (graus decimais)\n",
    "polygon = [-44.06262124827551, -23.108686697869885, -43.59295572093176, -22.89505336946246] #Em caso de um polígono\n",
    "#point = [-44.06262124827551, -23.108686697869885] #Em caso de um ponto\n",
    "\n",
    "#Escolha o tipo de produto: neste exemplo estamos buscando o produto full resolution do OLCI em nível L1 (Topo da Atmosfera).\n",
    "productType: 'S3_EFR'\n",
    "\n",
    "#Buscando as cenas que são intersectadas pelo polígono (ou ponto)\n",
    "list_scenes = CopernicusDownloader().search_product(start_date, end_date, polygon, 'S3_EFR')\n",
    "\n",
    "# Realizando o download em massa: A linha de código abaixo irá baixar cada cena com seus respectivos ID's a partir da lista de cenas encontradas anteriormente. \n",
    "# IMPORTANTE: É necessário ter cadastro em: https://www.copernicus.eu/en\n",
    "username = \"luizfelipemfds@ufrj.br\" #login\n",
    "password = \"#Luiz20191997#$\" #senha\n",
    "\n",
    "#Diretório para onde os arquivos baixados ficarão armazenados. Se nenhum diretório for inserido, as imagens serão destinadas o diretório atual.\n",
    "output = \"/home/de-sousa/Documents/lasa_alarmes_agua/02_raw_scenes/sentinel3\" #obs: Ao mudar o diretório, certifique-se de inserir o caminho relativo à sua máquina (ex: home/fulano/raw_scenes)\n",
    "\n",
    "#Realizando o download das imagens\n",
    "CopernicusDownloader().batch_download(username, password, list_scenes, output)"
   ]
  }
 ],
 "metadata": {
  "kernelspec": {
   "display_name": "Python 3 (ipykernel)",
   "language": "python",
   "name": "python3"
  },
  "language_info": {
   "codemirror_mode": {
    "name": "ipython",
    "version": 3
   },
   "file_extension": ".py",
   "mimetype": "text/x-python",
   "name": "python",
   "nbconvert_exporter": "python",
   "pygments_lexer": "ipython3",
   "version": "3.12.7"
  }
 },
 "nbformat": 4,
 "nbformat_minor": 5
}
